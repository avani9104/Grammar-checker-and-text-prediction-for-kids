{
  "cells": [
    {
      "cell_type": "code",
      "execution_count": null,
      "metadata": {
        "id": "um_DnhIod7ee"
      },
      "outputs": [],
      "source": [
        "import tensorflow as tf\n",
        "from tensorflow.keras.preprocessing.text import Tokenizer\n",
        "from tensorflow.keras.layers import Embedding, LSTM, Dense\n",
        "from tensorflow.keras.models import Sequential\n",
        "from tensorflow.keras.utils import to_categorical\n",
        "from tensorflow.keras.optimizers import Adam\n",
        "import pickle\n",
        "import numpy as np\n",
        "import os"
      ]
    },
    {
      "cell_type": "code",
      "execution_count": null,
      "metadata": {
        "colab": {
          "base_uri": "https://localhost:8080/"
        },
        "id": "lFo-tEmZeGcn",
        "outputId": "eed5d7ed-92d5-4b07-b4bf-7ceff24d4372"
      },
      "outputs": [
        {
          "name": "stdout",
          "output_type": "stream",
          "text": [
            "The First Line:  गोस्वामी तुलसीदासजी को रामायण से बढ़ कर हिन्दीसाहित्य में दूसरा र \n",
            "\n",
            "The Last Line:  ब्राह्मणों फे पट्टे.ललौटबा दिये । \n",
            "\n"
          ]
        }
      ],
      "source": [
        "file = open(\"hindi.txt\", \"r\", encoding = \"utf8\")\n",
        "lines = []\n",
        "\n",
        "for i in file:\n",
        "    lines.append(i)\n",
        "    \n",
        "print(\"The First Line: \", lines[0])\n",
        "print(\"The Last Line: \", lines[-1])"
      ]
    },
    {
      "cell_type": "code",
      "execution_count": null,
      "metadata": {
        "colab": {
          "base_uri": "https://localhost:8080/",
          "height": 70
        },
        "id": "YUkrJMhdeIs7",
        "outputId": "8c1e1256-405c-4cf0-cd97-a99b85a6f288"
      },
      "outputs": [
        {
          "data": {
            "application/vnd.google.colaboratory.intrinsic+json": {
              "type": "string"
            },
            "text/plain": [
              "'गोस्वामी तुलसीदासजी को रामायण से बढ़ कर हिन्दीसाहित्य में दूसरा र  है। ऐसा फोन साहित्य-लेची देगा जो रामंचरितमानस से थोड़ा बहुत परिचय न कह लीक  भादर भारतवष के कोने कोने में राजाधिराजों के मद॒ल्रों से क्षेकर कंगाल की झोपड़ी पथ्य॑न्\\u200d्त है  भर प्रचार में ते यह घाल्मीकीय से भ कई गुना पढ़ा हुआ है | विविध मतान्ुयायी और मिश्च धर्मा  घलस्बी भी आदरणीय मान कर इसके उपरे'"
            ]
          },
          "execution_count": 3,
          "metadata": {},
          "output_type": "execute_result"
        }
      ],
      "source": [
        "#cleaning the text\n",
        "data = \"\"\n",
        "\n",
        "for i in lines:\n",
        "    data = ' '. join(lines)\n",
        "    \n",
        "data = data.replace('\\n', '').replace('\\r', '').replace('\\ufeff', '')\n",
        "data[:360]"
      ]
    },
    {
      "cell_type": "code",
      "execution_count": null,
      "metadata": {
        "colab": {
          "base_uri": "https://localhost:8080/",
          "height": 70
        },
        "id": "A5TFCzsbeIpS",
        "outputId": "c5f74953-f7e6-4d45-e43e-8d9239eb967f"
      },
      "outputs": [
        {
          "data": {
            "application/vnd.google.colaboratory.intrinsic+json": {
              "type": "string"
            },
            "text/plain": [
              "'गोस्वामी तुलसीदासजी को रामायण से बढ़ कर हिन्दीसाहित्य में दूसरा र  है। ऐसा फोन साहित्य लेची देगा जो रामंचरितमानस से थोड़ा बहुत परिचय न कह लीक  भादर भारतवष के कोने कोने में राजाधिराजों के मद॒ल्रों से क्षेकर कंगाल की झोपड़ी पथ्य॑न्\\u200d्त है  भर प्रचार में ते यह घाल्मीकीय से भ कई गुना पढ़ा हुआ है   विविध मतान्ुयायी और मिश्च धर्मा  घलस्बी भी आदरणीय मान कर इसके उपरेशों से लाभ उठाते हैं। अनेक भाषाओं में अनूदित होकर  यद भिन्न मिन्न देशों में सम्मान पा रहा दे भारतीयों में ते कितने हो भावुझ जन ऐसे ऐ ग जो  र'"
            ]
          },
          "execution_count": 4,
          "metadata": {},
          "output_type": "execute_result"
        }
      ],
      "source": [
        "import string\n",
        "\n",
        "translator = str.maketrans(string.punctuation, ' '*len(string.punctuation)) #map punctuation to space\n",
        "new_data = data.translate(translator)\n",
        "\n",
        "new_data[:500]"
      ]
    },
    {
      "cell_type": "code",
      "execution_count": null,
      "metadata": {
        "colab": {
          "base_uri": "https://localhost:8080/",
          "height": 88
        },
        "id": "K0ToyRfSeIms",
        "outputId": "3d2e46c9-1aac-4286-c59e-1414fd6d32a8"
      },
      "outputs": [
        {
          "data": {
            "application/vnd.google.colaboratory.intrinsic+json": {
              "type": "string"
            },
            "text/plain": [
              "'गोस्वामी तुलसीदासजी को रामायण से बढ़ कर हिन्दीसाहित्य में दूसरा र है। ऐसा फोन साहित्य-लेची देगा जो रामंचरितमानस थोड़ा बहुत परिचय न कह लीक भादर भारतवष के कोने राजाधिराजों मद॒ल्रों क्षेकर कंगाल की झोपड़ी पथ्य॑न्\\u200d्त है भर प्रचार ते यह घाल्मीकीय भ कई गुना पढ़ा हुआ | विविध मतान्ुयायी और मिश्च धर्मा घलस्बी भी आदरणीय मान इसके उपरेशों लाभ उठाते हैं। अनेक भाषाओं अनूदित होकर यद भिन्न मिन्न देशों सम्मान पा रहा दे भारतीयों कितने हो भावुझ जन ऐसे ऐ|ग रामचरितमानस का पाठ किये बिना जल तक नहीं हण फरते झोजरुवी म र'"
            ]
          },
          "execution_count": 5,
          "metadata": {},
          "output_type": "execute_result"
        }
      ],
      "source": [
        "z = []\n",
        "\n",
        "for i in data.split():\n",
        "    if i not in z:\n",
        "        z.append(i)\n",
        "        \n",
        "data = ' '.join(z)\n",
        "data[:500]"
      ]
    },
    {
      "cell_type": "code",
      "execution_count": null,
      "metadata": {
        "colab": {
          "base_uri": "https://localhost:8080/"
        },
        "id": "LKRnLnAOeIkD",
        "outputId": "6129986a-4491-4aef-b956-16fd0847ff93"
      },
      "outputs": [
        {
          "data": {
            "text/plain": [
              "[91, 321, 92, 93, 9, 322, 24, 323, 25, 324]"
            ]
          },
          "execution_count": 6,
          "metadata": {},
          "output_type": "execute_result"
        }
      ],
      "source": [
        "#tokenization\n",
        "tokenizer = Tokenizer()\n",
        "tokenizer.fit_on_texts([data])\n",
        "\n",
        "# saving the tokenizer for predict function.\n",
        "pickle.dump(tokenizer, open('tokenizer1.pkl', 'wb'))\n",
        "\n",
        "sequence_data = tokenizer.texts_to_sequences([data])[0]\n",
        "sequence_data[:10]"
      ]
    },
    {
      "cell_type": "code",
      "execution_count": null,
      "metadata": {
        "colab": {
          "base_uri": "https://localhost:8080/"
        },
        "id": "9CCINPmBeIhK",
        "outputId": "f145e4e4-8b31-4e21-9950-0d280eb6dd01"
      },
      "outputs": [
        {
          "name": "stdout",
          "output_type": "stream",
          "text": [
            "5655\n"
          ]
        }
      ],
      "source": [
        "vocab_size = len(tokenizer.word_index) + 1\n",
        "print(vocab_size)"
      ]
    },
    {
      "cell_type": "code",
      "execution_count": null,
      "metadata": {
        "colab": {
          "base_uri": "https://localhost:8080/"
        },
        "id": "QViCOP5mjYFB",
        "outputId": "0413ba14-8d05-4711-f6d4-19ae7efd8ac9"
      },
      "outputs": [
        {
          "name": "stdout",
          "output_type": "stream",
          "text": [
            "The Length of sequences are:  6153\n"
          ]
        },
        {
          "data": {
            "text/plain": [
              "array([[ 91, 321],\n",
              "       [321,  92],\n",
              "       [ 92,  93],\n",
              "       [ 93,   9],\n",
              "       [  9, 322],\n",
              "       [322,  24],\n",
              "       [ 24, 323],\n",
              "       [323,  25],\n",
              "       [ 25, 324],\n",
              "       [324, 325]])"
            ]
          },
          "execution_count": 8,
          "metadata": {},
          "output_type": "execute_result"
        }
      ],
      "source": [
        "sequences = []\n",
        "\n",
        "for i in range(1, len(sequence_data)):\n",
        "    words = sequence_data[i-1:i+1]\n",
        "    sequences.append(words)\n",
        "    \n",
        "print(\"The Length of sequences are: \", len(sequences))\n",
        "sequences = np.array(sequences)\n",
        "sequences[:10]"
      ]
    },
    {
      "cell_type": "code",
      "execution_count": null,
      "metadata": {
        "id": "XyP4f-ShjcTq"
      },
      "outputs": [],
      "source": [
        "X = []\n",
        "y = []\n",
        "\n",
        "for i in sequences:\n",
        "    X.append(i[0])\n",
        "    y.append(i[1])\n",
        "    \n",
        "X = np.array(X)\n",
        "y = np.array(y)"
      ]
    },
    {
      "cell_type": "code",
      "execution_count": null,
      "metadata": {
        "colab": {
          "base_uri": "https://localhost:8080/"
        },
        "id": "fxZd7IsTjhDu",
        "outputId": "1a6443dd-3e9d-476f-e368-df364d6137e8"
      },
      "outputs": [
        {
          "name": "stdout",
          "output_type": "stream",
          "text": [
            "The Data is:  [ 91 321  92  93   9]\n",
            "The responses are:  [321  92  93   9 322]\n"
          ]
        }
      ],
      "source": [
        "print(\"The Data is: \", X[:5])\n",
        "print(\"The responses are: \", y[:5])"
      ]
    },
    {
      "cell_type": "code",
      "execution_count": null,
      "metadata": {
        "colab": {
          "base_uri": "https://localhost:8080/"
        },
        "id": "vkHzAbQKeIem",
        "outputId": "2542be87-cb84-4ab5-d496-e6a1ce367844"
      },
      "outputs": [
        {
          "data": {
            "text/plain": [
              "array([[0., 0., 0., ..., 0., 0., 0.],\n",
              "       [0., 0., 0., ..., 0., 0., 0.],\n",
              "       [0., 0., 0., ..., 0., 0., 0.],\n",
              "       [0., 0., 0., ..., 0., 0., 0.],\n",
              "       [0., 0., 0., ..., 0., 0., 0.]], dtype=float32)"
            ]
          },
          "execution_count": 11,
          "metadata": {},
          "output_type": "execute_result"
        }
      ],
      "source": [
        "y = to_categorical(y, num_classes=vocab_size)\n",
        "y[:5]"
      ]
    },
    {
      "cell_type": "code",
      "execution_count": null,
      "metadata": {
        "id": "FTPrepIajozD"
      },
      "outputs": [],
      "source": [
        "#creating the model\n",
        "model = Sequential()\n",
        "model.add(Embedding(vocab_size, 10, input_length=1))\n",
        "model.add(LSTM(3000, return_sequences=True))\n",
        "model.add(LSTM(3000))\n",
        "model.add(Dense(3000, activation=\"relu\"))\n",
        "model.add(Dense(vocab_size, activation=\"softmax\"))"
      ]
    },
    {
      "cell_type": "code",
      "execution_count": null,
      "metadata": {
        "colab": {
          "base_uri": "https://localhost:8080/",
          "height": 564
        },
        "id": "SWYmOF1vjovZ",
        "outputId": "079a54c9-d8bb-4de2-f69f-8ba97feb4ef7"
      },
      "outputs": [
        {
          "data": {
            "image/png": "[encoded data removed]",
            "text/plain": [
              "<IPython.core.display.Image object>"
            ]
          },
          "execution_count": 13,
          "metadata": {},
          "output_type": "execute_result"
        }
      ],
      "source": [
        "#plotting the model\n",
        "from tensorflow import keras\n",
        "from keras.utils.vis_utils import plot_model\n",
        "\n",
        "keras.utils.plot_model(model, to_file='model.png', show_layer_names=True)"
      ]
    },
    {
      "cell_type": "code",
      "execution_count": null,
      "metadata": {
        "id": "WUxMDZF6jof0"
      },
      "outputs": [],
      "source": [
        "#callbacks\n",
        "from tensorflow.keras.callbacks import ModelCheckpoint\n",
        "from tensorflow.keras.callbacks import ReduceLROnPlateau\n",
        "from tensorflow.keras.callbacks import TensorBoard\n",
        "\n",
        "checkpoint = ModelCheckpoint(\"nextword1.h5\", monitor='loss', verbose=1,\n",
        "    save_best_only=True, mode='auto')\n",
        "\n",
        "reduce = ReduceLROnPlateau(monitor='loss', factor=0.2, patience=3, min_lr=0.0001, verbose = 1)\n",
        "\n",
        "logdir='logsnextword1'\n",
        "tensorboard_Visualization = TensorBoard(log_dir=logdir)"
      ]
    },
    {
      "cell_type": "code",
      "execution_count": null,
      "metadata": {
        "colab": {
          "base_uri": "https://localhost:8080/"
        },
        "id": "TsL5430ejoch",
        "outputId": "3c85b8ac-79ed-4da0-ac9e-a57fc79ccc98"
      },
      "outputs": [
        {
          "name": "stderr",
          "output_type": "stream",
          "text": [
            "/usr/local/lib/python3.7/dist-packages/keras/optimizer_v2/adam.py:105: UserWarning: The `lr` argument is deprecated, use `learning_rate` instead.\n",
            "  super(Adam, self).__init__(name, **kwargs)\n"
          ]
        }
      ],
      "source": [
        "#compile the model\n",
        "model.compile(loss=\"categorical_crossentropy\", optimizer=Adam(lr=0.001))"
      ]
    },
    {
      "cell_type": "code",
      "execution_count": null,
      "metadata": {
        "colab": {
          "base_uri": "https://localhost:8080/"
        },
        "id": "YNBTPwh0kJ4d",
        "outputId": "d10ebacd-c58b-463a-f51e-e5f1e0dcd8f8"
      },
      "outputs": [
        {
          "name": "stdout",
          "output_type": "stream",
          "text": [
            "Epoch 1/5\n",
            "97/97 [==============================] - ETA: 0s - loss: 8.6560\n",
            "Epoch 00001: loss improved from inf to 8.65598, saving model to nextword1.h5\n",
            "97/97 [==============================] - 157s 2s/step - loss: 8.6560 - lr: 0.0010\n",
            "Epoch 2/5\n",
            "97/97 [==============================] - ETA: 0s - loss: 8.6415\n",
            "Epoch 00002: loss improved from 8.65598 to 8.64153, saving model to nextword1.h5\n",
            "97/97 [==============================] - 156s 2s/step - loss: 8.6415 - lr: 0.0010\n",
            "Epoch 3/5\n",
            "97/97 [==============================] - ETA: 0s - loss: 8.6405\n",
            "Epoch 00003: loss improved from 8.64153 to 8.64051, saving model to nextword1.h5\n",
            "97/97 [==============================] - 154s 2s/step - loss: 8.6405 - lr: 0.0010\n",
            "Epoch 4/5\n",
            "97/97 [==============================] - ETA: 0s - loss: 8.6396\n",
            "Epoch 00004: loss improved from 8.64051 to 8.63955, saving model to nextword1.h5\n",
            "97/97 [==============================] - 153s 2s/step - loss: 8.6396 - lr: 0.0010\n",
            "Epoch 5/5\n",
            "97/97 [==============================] - ETA: 0s - loss: 8.6386\n",
            "Epoch 00005: loss improved from 8.63955 to 8.63863, saving model to nextword1.h5\n",
            "97/97 [==============================] - 153s 2s/step - loss: 8.6386 - lr: 0.0010\n"
          ]
        },
        {
          "data": {
            "text/plain": [
              "<keras.callbacks.History at 0x7f0d3a66a4d0>"
            ]
          },
          "execution_count": 16,
          "metadata": {},
          "output_type": "execute_result"
        }
      ],
      "source": [
        "#fit model\n",
        "model.fit(X, y, epochs=5, batch_size=64, callbacks=[checkpoint, reduce, tensorboard_Visualization])"
      ]
    },
    {
      "cell_type": "code",
      "execution_count": null,
      "metadata": {
        "id": "5AZBJWwl1QWa"
      },
      "outputs": [],
      "source": [
        "from tensorflow.keras.models import load_model\n",
        "import numpy as np\n",
        "import pickle\n",
        "\n",
        "# Load the model and tokenizer\n",
        "model = load_model('nextword1.h5')\n",
        "tokenizer = pickle.load(open('tokenizer1.pkl', 'rb'))\n",
        "\n",
        "def Predict_Next_Words(model, tokenizer, text):\n",
        "\n",
        "  sequence = tokenizer.texts_to_sequences([text])\n",
        "  sequence = np.array(sequence)\n",
        "  preds = np.argmax(model.predict(sequence))\n",
        "  predicted_word = \"\"\n",
        "  \n",
        "  for key, value in tokenizer.word_index.items():\n",
        "      if value == preds:\n",
        "          predicted_word = key\n",
        "          break\n",
        "  \n",
        "  print(predicted_word)\n",
        "  return predicted_word"
      ]
    },
    {
      "cell_type": "code",
      "execution_count": null,
      "metadata": {
        "id": "7oizBoDieeZN"
      },
      "outputs": [],
      "source": [
        "pip freeze > requirements.txt"
      ]
    },
    {
      "cell_type": "code",
      "execution_count": null,
      "metadata": {
        "colab": {
          "base_uri": "https://localhost:8080/"
        },
        "id": "aQoVyDtqeeVt",
        "outputId": "b238455f-6d73-43a5-a226-21435d0c9d05"
      },
      "outputs": [
        {
          "name": "stdout",
          "output_type": "stream",
          "text": [
            "Collecting flask-ngrok\n",
            "  Downloading flask_ngrok-0.0.25-py3-none-any.whl (3.1 kB)\n",
            "Requirement already satisfied: Flask>=0.8 in /usr/local/lib/python3.7/dist-packages (from flask-ngrok) (1.1.4)\n",
            "Requirement already satisfied: requests in /usr/local/lib/python3.7/dist-packages (from flask-ngrok) (2.23.0)\n",
            "Requirement already satisfied: itsdangerous<2.0,>=0.24 in /usr/local/lib/python3.7/dist-packages (from Flask>=0.8->flask-ngrok) (1.1.0)\n",
            "Requirement already satisfied: Werkzeug<2.0,>=0.15 in /usr/local/lib/python3.7/dist-packages (from Flask>=0.8->flask-ngrok) (1.0.1)\n",
            "Requirement already satisfied: Jinja2<3.0,>=2.10.1 in /usr/local/lib/python3.7/dist-packages (from Flask>=0.8->flask-ngrok) (2.11.3)\n",
            "Requirement already satisfied: click<8.0,>=5.1 in /usr/local/lib/python3.7/dist-packages (from Flask>=0.8->flask-ngrok) (7.1.2)\n",
            "Requirement already satisfied: MarkupSafe>=0.23 in /usr/local/lib/python3.7/dist-packages (from Jinja2<3.0,>=2.10.1->Flask>=0.8->flask-ngrok) (2.0.1)\n",
            "Requirement already satisfied: urllib3!=1.25.0,!=1.25.1,<1.26,>=1.21.1 in /usr/local/lib/python3.7/dist-packages (from requests->flask-ngrok) (1.24.3)\n",
            "Requirement already satisfied: chardet<4,>=3.0.2 in /usr/local/lib/python3.7/dist-packages (from requests->flask-ngrok) (3.0.4)\n",
            "Requirement already satisfied: certifi>=2017.4.17 in /usr/local/lib/python3.7/dist-packages (from requests->flask-ngrok) (2021.10.8)\n",
            "Requirement already satisfied: idna<3,>=2.5 in /usr/local/lib/python3.7/dist-packages (from requests->flask-ngrok) (2.10)\n",
            "Installing collected packages: flask-ngrok\n",
            "Successfully installed flask-ngrok-0.0.25\n"
          ]
        }
      ],
      "source": [
        "!pip install flask-ngrok\n",
        "from flask_ngrok import run_with_ngrok\n",
        "from flask import Flask"
      ]
    },
    {
      "cell_type": "code",
      "execution_count": null,
      "metadata": {
        "colab": {
          "background_save": true,
          "base_uri": "https://localhost:8080/"
        },
        "id": "VGSdFfW6eeTI",
        "outputId": "bc370ecf-40e6-45ca-ef5b-44c1ccc63fa3"
      },
      "outputs": [
        {
          "name": "stdout",
          "output_type": "stream",
          "text": [
            " * Serving Flask app \"__main__\" (lazy loading)\n",
            " * Environment: production\n",
            "\u001b[31m   WARNING: This is a development server. Do not use it in a production deployment.\u001b[0m\n",
            "\u001b[2m   Use a production WSGI server instead.\u001b[0m\n",
            " * Debug mode: off\n"
          ]
        },
        {
          "name": "stderr",
          "output_type": "stream",
          "text": [
            " * Running on http://127.0.0.1:5000/ (Press CTRL+C to quit)\n"
          ]
        },
        {
          "name": "stdout",
          "output_type": "stream",
          "text": [
            " * Running on http://20b8-34-73-98-158.ngrok.io\n",
            " * Traffic stats available on http://127.0.0.1:4040\n"
          ]
        },
        {
          "name": "stderr",
          "output_type": "stream",
          "text": [
            "127.0.0.1 - - [06/Dec/2021 06:03:49] \"\u001b[37mGET / HTTP/1.1\u001b[0m\" 200 -\n",
            "127.0.0.1 - - [06/Dec/2021 06:03:49] \"\u001b[37mGET /static/twofrogs.png HTTP/1.1\u001b[0m\" 200 -\n",
            "127.0.0.1 - - [06/Dec/2021 06:03:49] \"\u001b[37mGET /static/boy_wolf.png HTTP/1.1\u001b[0m\" 200 -\n",
            "127.0.0.1 - - [06/Dec/2021 06:03:49] \"\u001b[37mGET /static/the_girl_kingdom.jpg HTTP/1.1\u001b[0m\" 200 -\n",
            "127.0.0.1 - - [06/Dec/2021 06:03:50] \"\u001b[37mGET /static/hindi2.jpg HTTP/1.1\u001b[0m\" 200 -\n",
            "127.0.0.1 - - [06/Dec/2021 06:03:50] \"\u001b[37mGET /static/panchtantra.jpg HTTP/1.1\u001b[0m\" 200 -\n",
            "127.0.0.1 - - [06/Dec/2021 06:03:50] \"\u001b[37mGET /static/hindi1.jpg HTTP/1.1\u001b[0m\" 200 -\n",
            "127.0.0.1 - - [06/Dec/2021 06:03:50] \"\u001b[37mGET /static/agnigundum.jpg HTTP/1.1\u001b[0m\" 200 -\n",
            "127.0.0.1 - - [06/Dec/2021 06:03:50] \"\u001b[37mGET /static/telgu1.jpg HTTP/1.1\u001b[0m\" 200 -\n",
            "127.0.0.1 - - [06/Dec/2021 06:03:50] \"\u001b[37mGET /static/telgu2.jpg HTTP/1.1\u001b[0m\" 200 -\n",
            "127.0.0.1 - - [06/Dec/2021 06:03:51] \"\u001b[33mGET /favicon.ico HTTP/1.1\u001b[0m\" 404 -\n",
            "127.0.0.1 - - [06/Dec/2021 06:03:54] \"\u001b[37mGET /panchtantra HTTP/1.1\u001b[0m\" 200 -\n"
          ]
        },
        {
          "name": "stdout",
          "output_type": "stream",
          "text": [
            "WARNING:tensorflow:Model was constructed with shape (None, 1) for input KerasTensor(type_spec=TensorSpec(shape=(None, 1), dtype=tf.float32, name='embedding_input'), name='embedding_input', description=\"created by layer 'embedding_input'\"), but it was called on an input with incompatible shape (None, 5).\n"
          ]
        },
        {
          "name": "stderr",
          "output_type": "stream",
          "text": [
            "127.0.0.1 - - [06/Dec/2021 06:04:05] \"\u001b[37mPOST /check HTTP/1.1\u001b[0m\" 200 -\n"
          ]
        },
        {
          "name": "stdout",
          "output_type": "stream",
          "text": [
            "राम\n"
          ]
        }
      ],
      "source": [
        "import numpy as np\n",
        "from flask import Flask, request, jsonify, render_template\n",
        "import pickle\n",
        "from textblob import TextBlob\n",
        "\n",
        "app = Flask(__name__)\n",
        "run_with_ngrok(app)   #starts ngrok when the app is run\n",
        "# Load the model and tokenizer\n",
        "model = load_model('nextword1.h5')\n",
        "tokenizer = pickle.load(open('tokenizer1.pkl', 'rb'))\n",
        "@app.route('/',methods=['GET'])\n",
        "def home():\n",
        "  return render_template('Hmain.html')\n",
        "@app.route('/panchtantra',methods=['GET'])\n",
        "def next():\n",
        "  return render_template('panchtantra.html')\n",
        "@app.route('/check', methods=['POST'])\n",
        "def check():\n",
        "  if request.method == 'POST':\n",
        "    phrase = request.form['phrase']\n",
        "    prediction=Predict_Next_Words(model, tokenizer, phrase)\n",
        "  return render_template('panchtantra.html',output=prediction) \n",
        "@app.route('/correct', methods=['POST'])\n",
        "def correct():\n",
        "    if request.method == 'POST':\n",
        "        input = request.form['input']\n",
        "        text = TextBlob(input)\n",
        "    return render_template('panchtantra.html', input=text, output1=text.correct())\n",
        "\n",
        "if __name__ == \"__main__\":\n",
        "    app.run()\n"
      ]
    }
  ],
  "metadata": {
    "colab": {
      "collapsed_sections": [],
      "name": " text_prediction_hindi.ipynb",
      "provenance": []
    },
    "kernelspec": {
      "display_name": "Python 3",
      "name": "python3"
    },
    "language_info": {
      "name": "python"
    }
  },
  "nbformat": 4,
  "nbformat_minor": 0
}